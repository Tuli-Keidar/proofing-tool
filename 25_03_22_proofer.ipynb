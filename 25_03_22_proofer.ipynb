{
 "cells": [
  {
   "cell_type": "code",
   "execution_count": null,
   "metadata": {},
   "outputs": [],
   "source": "# DEPRECATED: This notebook has been refactored into modular Python scripts.\n# Please use the following files instead:\n# - main.py: Entry point with CLI interface  \n# - config.py: Configuration management\n# - proofreader.py: Main DocumentProofreader class\n# - utils.py: Utility functions\n#\n# Usage: python3 main.py --help\n#\n# The modular structure provides better error handling,\n# security (API keys in .env file), and maintainability.\n\nprint(\"This notebook is deprecated. Please use 'python3 main.py' instead.\")\nprint(\"See README.md for detailed usage instructions.\")"
  }
 ],
 "metadata": {
  "kernelspec": {
   "display_name": "Python 3",
   "language": "python",
   "name": "python3"
  },
  "language_info": {
   "codemirror_mode": {
    "name": "ipython",
    "version": 3
   },
   "file_extension": ".py",
   "mimetype": "text/x-python",
   "name": "python",
   "nbconvert_exporter": "python",
   "pygments_lexer": "ipython3",
   "version": "3.13.2"
  }
 },
 "nbformat": 4,
 "nbformat_minor": 2
}